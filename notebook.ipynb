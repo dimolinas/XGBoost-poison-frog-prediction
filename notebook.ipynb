{
 "cells": [
  {
   "cell_type": "markdown",
   "metadata": {},
   "source": [
    "# Project: Predict Frog Toxicity with Python and XGBoost"
   ]
  },
  {
   "cell_type": "markdown",
   "metadata": {},
   "source": [
    "## Data Processing"
   ]
  },
  {
   "cell_type": "markdown",
   "metadata": {},
   "source": [
    "### Task 1: Import Libraries"
   ]
  },
  {
   "cell_type": "code",
   "execution_count": 1,
   "metadata": {},
   "outputs": [],
   "source": [
    "# Importing the required libraries\n",
    "import numpy as np\n",
    "import pandas as pd\n",
    "import matplotlib.pyplot as plt\n",
    "import seaborn as sns\n",
    "import xgboost as xgb\n",
    "\n",
    "from onnxmltools.convert import convert_xgboost\n",
    "from onnxmltools.convert.common.data_types import FloatTensorType\n",
    "from onnxruntime import InferenceSession\n",
    "\n",
    "from sklearn.model_selection import train_test_split\n",
    "from sklearn.metrics import mean_squared_error\n",
    "\n"
   ]
  },
  {
   "cell_type": "markdown",
   "metadata": {},
   "source": [
    "### Task 2: Load the Dataset"
   ]
  },
  {
   "cell_type": "code",
   "execution_count": 2,
   "metadata": {},
   "outputs": [
    {
     "data": {
      "text/html": [
       "<div>\n",
       "<style scoped>\n",
       "    .dataframe tbody tr th:only-of-type {\n",
       "        vertical-align: middle;\n",
       "    }\n",
       "\n",
       "    .dataframe tbody tr th {\n",
       "        vertical-align: top;\n",
       "    }\n",
       "\n",
       "    .dataframe thead th {\n",
       "        text-align: right;\n",
       "    }\n",
       "</style>\n",
       "<table border=\"1\" class=\"dataframe\">\n",
       "  <thead>\n",
       "    <tr style=\"text-align: right;\">\n",
       "      <th></th>\n",
       "      <th>pop</th>\n",
       "      <th>pop#</th>\n",
       "      <th>ntox</th>\n",
       "      <th>tox</th>\n",
       "      <th>toxse</th>\n",
       "      <th>normtox</th>\n",
       "      <th>normtoxse</th>\n",
       "      <th>viewer</th>\n",
       "      <th>background</th>\n",
       "      <th>noise</th>\n",
       "      <th>vord</th>\n",
       "      <th>dl</th>\n",
       "      <th>ds</th>\n",
       "      <th>euc</th>\n",
       "      <th>qt</th>\n",
       "      <th>qtse</th>\n",
       "      <th>normqt</th>\n",
       "      <th>dluvminus</th>\n",
       "      <th>dsuvminus</th>\n",
       "      <th>eucuvminus</th>\n",
       "    </tr>\n",
       "  </thead>\n",
       "  <tbody>\n",
       "    <tr>\n",
       "      <th>0</th>\n",
       "      <td>AG</td>\n",
       "      <td>4.0</td>\n",
       "      <td>7.0</td>\n",
       "      <td>1.088162</td>\n",
       "      <td>0.098258</td>\n",
       "      <td>0.632902</td>\n",
       "      <td>0.057149</td>\n",
       "      <td>bird</td>\n",
       "      <td>heli</td>\n",
       "      <td>sp</td>\n",
       "      <td>d</td>\n",
       "      <td>0.663722</td>\n",
       "      <td>0.233671</td>\n",
       "      <td>0.555260</td>\n",
       "      <td>3689.650359</td>\n",
       "      <td>160.547777</td>\n",
       "      <td>0.427837</td>\n",
       "      <td>0.663722</td>\n",
       "      <td>0.233207</td>\n",
       "      <td>0.554822</td>\n",
       "    </tr>\n",
       "    <tr>\n",
       "      <th>1</th>\n",
       "      <td>AG</td>\n",
       "      <td>4.0</td>\n",
       "      <td>7.0</td>\n",
       "      <td>1.088162</td>\n",
       "      <td>0.098258</td>\n",
       "      <td>0.632902</td>\n",
       "      <td>0.057149</td>\n",
       "      <td>bird</td>\n",
       "      <td>bark</td>\n",
       "      <td>sp</td>\n",
       "      <td>d</td>\n",
       "      <td>0.112857</td>\n",
       "      <td>0.476213</td>\n",
       "      <td>0.209312</td>\n",
       "      <td>3689.650359</td>\n",
       "      <td>160.547777</td>\n",
       "      <td>0.427837</td>\n",
       "      <td>0.112857</td>\n",
       "      <td>0.468019</td>\n",
       "      <td>0.206925</td>\n",
       "    </tr>\n",
       "    <tr>\n",
       "      <th>2</th>\n",
       "      <td>AG</td>\n",
       "      <td>4.0</td>\n",
       "      <td>7.0</td>\n",
       "      <td>1.088162</td>\n",
       "      <td>0.098258</td>\n",
       "      <td>0.632902</td>\n",
       "      <td>0.057149</td>\n",
       "      <td>bird</td>\n",
       "      <td>leaf</td>\n",
       "      <td>sp</td>\n",
       "      <td>d</td>\n",
       "      <td>0.713477</td>\n",
       "      <td>0.589576</td>\n",
       "      <td>0.687094</td>\n",
       "      <td>3689.650359</td>\n",
       "      <td>160.547777</td>\n",
       "      <td>0.427837</td>\n",
       "      <td>0.713477</td>\n",
       "      <td>0.585557</td>\n",
       "      <td>0.686149</td>\n",
       "    </tr>\n",
       "    <tr>\n",
       "      <th>3</th>\n",
       "      <td>AG</td>\n",
       "      <td>4.0</td>\n",
       "      <td>7.0</td>\n",
       "      <td>1.088162</td>\n",
       "      <td>0.098258</td>\n",
       "      <td>0.632902</td>\n",
       "      <td>0.057149</td>\n",
       "      <td>bird</td>\n",
       "      <td>bark</td>\n",
       "      <td>fix</td>\n",
       "      <td>d</td>\n",
       "      <td>0.112857</td>\n",
       "      <td>0.476213</td>\n",
       "      <td>0.209312</td>\n",
       "      <td>3689.650359</td>\n",
       "      <td>160.547777</td>\n",
       "      <td>0.427837</td>\n",
       "      <td>NaN</td>\n",
       "      <td>NaN</td>\n",
       "      <td>NaN</td>\n",
       "    </tr>\n",
       "    <tr>\n",
       "      <th>4</th>\n",
       "      <td>AG</td>\n",
       "      <td>4.0</td>\n",
       "      <td>7.0</td>\n",
       "      <td>1.088162</td>\n",
       "      <td>0.098258</td>\n",
       "      <td>0.632902</td>\n",
       "      <td>0.057149</td>\n",
       "      <td>bird</td>\n",
       "      <td>heli</td>\n",
       "      <td>fix</td>\n",
       "      <td>d</td>\n",
       "      <td>0.663722</td>\n",
       "      <td>0.233671</td>\n",
       "      <td>0.555260</td>\n",
       "      <td>3689.650359</td>\n",
       "      <td>160.547777</td>\n",
       "      <td>0.427837</td>\n",
       "      <td>NaN</td>\n",
       "      <td>NaN</td>\n",
       "      <td>NaN</td>\n",
       "    </tr>\n",
       "    <tr>\n",
       "      <th>...</th>\n",
       "      <td>...</td>\n",
       "      <td>...</td>\n",
       "      <td>...</td>\n",
       "      <td>...</td>\n",
       "      <td>...</td>\n",
       "      <td>...</td>\n",
       "      <td>...</td>\n",
       "      <td>...</td>\n",
       "      <td>...</td>\n",
       "      <td>...</td>\n",
       "      <td>...</td>\n",
       "      <td>...</td>\n",
       "      <td>...</td>\n",
       "      <td>...</td>\n",
       "      <td>...</td>\n",
       "      <td>...</td>\n",
       "      <td>...</td>\n",
       "      <td>...</td>\n",
       "      <td>...</td>\n",
       "      <td>...</td>\n",
       "    </tr>\n",
       "    <tr>\n",
       "      <th>550</th>\n",
       "      <td>TALA</td>\n",
       "      <td>11.0</td>\n",
       "      <td>4.0</td>\n",
       "      <td>0.425139</td>\n",
       "      <td>0.113806</td>\n",
       "      <td>0.247271</td>\n",
       "      <td>0.066192</td>\n",
       "      <td>snake</td>\n",
       "      <td>heli</td>\n",
       "      <td>sp</td>\n",
       "      <td>v</td>\n",
       "      <td>0.774689</td>\n",
       "      <td>0.629879</td>\n",
       "      <td>0.776108</td>\n",
       "      <td>9752.045135</td>\n",
       "      <td>945.940488</td>\n",
       "      <td>NaN</td>\n",
       "      <td>NaN</td>\n",
       "      <td>NaN</td>\n",
       "      <td>NaN</td>\n",
       "    </tr>\n",
       "    <tr>\n",
       "      <th>551</th>\n",
       "      <td>TALA</td>\n",
       "      <td>11.0</td>\n",
       "      <td>4.0</td>\n",
       "      <td>0.425139</td>\n",
       "      <td>0.113806</td>\n",
       "      <td>0.247271</td>\n",
       "      <td>0.066192</td>\n",
       "      <td>snake</td>\n",
       "      <td>leaf</td>\n",
       "      <td>sp</td>\n",
       "      <td>v</td>\n",
       "      <td>0.790821</td>\n",
       "      <td>0.627782</td>\n",
       "      <td>0.791856</td>\n",
       "      <td>9752.045135</td>\n",
       "      <td>945.940488</td>\n",
       "      <td>NaN</td>\n",
       "      <td>NaN</td>\n",
       "      <td>NaN</td>\n",
       "      <td>NaN</td>\n",
       "    </tr>\n",
       "    <tr>\n",
       "      <th>552</th>\n",
       "      <td>NaN</td>\n",
       "      <td>NaN</td>\n",
       "      <td>NaN</td>\n",
       "      <td>NaN</td>\n",
       "      <td>NaN</td>\n",
       "      <td>NaN</td>\n",
       "      <td>NaN</td>\n",
       "      <td>NaN</td>\n",
       "      <td>NaN</td>\n",
       "      <td>NaN</td>\n",
       "      <td>NaN</td>\n",
       "      <td>NaN</td>\n",
       "      <td>NaN</td>\n",
       "      <td>NaN</td>\n",
       "      <td>NaN</td>\n",
       "      <td>NaN</td>\n",
       "      <td>NaN</td>\n",
       "      <td>NaN</td>\n",
       "      <td>NaN</td>\n",
       "      <td>NaN</td>\n",
       "    </tr>\n",
       "    <tr>\n",
       "      <th>553</th>\n",
       "      <td>NaN</td>\n",
       "      <td>NaN</td>\n",
       "      <td>NaN</td>\n",
       "      <td>NaN</td>\n",
       "      <td>NaN</td>\n",
       "      <td>NaN</td>\n",
       "      <td>NaN</td>\n",
       "      <td>NaN</td>\n",
       "      <td>NaN</td>\n",
       "      <td>NaN</td>\n",
       "      <td>NaN</td>\n",
       "      <td>NaN</td>\n",
       "      <td>NaN</td>\n",
       "      <td>NaN</td>\n",
       "      <td>NaN</td>\n",
       "      <td>NaN</td>\n",
       "      <td>NaN</td>\n",
       "      <td>NaN</td>\n",
       "      <td>NaN</td>\n",
       "      <td>NaN</td>\n",
       "    </tr>\n",
       "    <tr>\n",
       "      <th>554</th>\n",
       "      <td>NaN</td>\n",
       "      <td>NaN</td>\n",
       "      <td>NaN</td>\n",
       "      <td>NaN</td>\n",
       "      <td>NaN</td>\n",
       "      <td>NaN</td>\n",
       "      <td>NaN</td>\n",
       "      <td>NaN</td>\n",
       "      <td>NaN</td>\n",
       "      <td>NaN</td>\n",
       "      <td>NaN</td>\n",
       "      <td>NaN</td>\n",
       "      <td>NaN</td>\n",
       "      <td>NaN</td>\n",
       "      <td>NaN</td>\n",
       "      <td>NaN</td>\n",
       "      <td>NaN</td>\n",
       "      <td>NaN</td>\n",
       "      <td>NaN</td>\n",
       "      <td>NaN</td>\n",
       "    </tr>\n",
       "  </tbody>\n",
       "</table>\n",
       "<p>555 rows × 20 columns</p>\n",
       "</div>"
      ],
      "text/plain": [
       "      pop  pop#  ntox       tox     toxse   normtox  normtoxse viewer  \\\n",
       "0      AG   4.0   7.0  1.088162  0.098258  0.632902   0.057149   bird   \n",
       "1      AG   4.0   7.0  1.088162  0.098258  0.632902   0.057149   bird   \n",
       "2      AG   4.0   7.0  1.088162  0.098258  0.632902   0.057149   bird   \n",
       "3      AG   4.0   7.0  1.088162  0.098258  0.632902   0.057149   bird   \n",
       "4      AG   4.0   7.0  1.088162  0.098258  0.632902   0.057149   bird   \n",
       "..    ...   ...   ...       ...       ...       ...        ...    ...   \n",
       "550  TALA  11.0   4.0  0.425139  0.113806  0.247271   0.066192  snake   \n",
       "551  TALA  11.0   4.0  0.425139  0.113806  0.247271   0.066192  snake   \n",
       "552   NaN   NaN   NaN       NaN       NaN       NaN        NaN    NaN   \n",
       "553   NaN   NaN   NaN       NaN       NaN       NaN        NaN    NaN   \n",
       "554   NaN   NaN   NaN       NaN       NaN       NaN        NaN    NaN   \n",
       "\n",
       "    background noise vord        dl        ds       euc           qt  \\\n",
       "0         heli    sp    d  0.663722  0.233671  0.555260  3689.650359   \n",
       "1         bark    sp    d  0.112857  0.476213  0.209312  3689.650359   \n",
       "2         leaf    sp    d  0.713477  0.589576  0.687094  3689.650359   \n",
       "3         bark   fix    d  0.112857  0.476213  0.209312  3689.650359   \n",
       "4         heli   fix    d  0.663722  0.233671  0.555260  3689.650359   \n",
       "..         ...   ...  ...       ...       ...       ...          ...   \n",
       "550       heli    sp    v  0.774689  0.629879  0.776108  9752.045135   \n",
       "551       leaf    sp    v  0.790821  0.627782  0.791856  9752.045135   \n",
       "552        NaN   NaN  NaN       NaN       NaN       NaN          NaN   \n",
       "553        NaN   NaN  NaN       NaN       NaN       NaN          NaN   \n",
       "554        NaN   NaN  NaN       NaN       NaN       NaN          NaN   \n",
       "\n",
       "           qtse    normqt  dluvminus  dsuvminus  eucuvminus  \n",
       "0    160.547777  0.427837   0.663722   0.233207    0.554822  \n",
       "1    160.547777  0.427837   0.112857   0.468019    0.206925  \n",
       "2    160.547777  0.427837   0.713477   0.585557    0.686149  \n",
       "3    160.547777  0.427837        NaN        NaN         NaN  \n",
       "4    160.547777  0.427837        NaN        NaN         NaN  \n",
       "..          ...       ...        ...        ...         ...  \n",
       "550  945.940488       NaN        NaN        NaN         NaN  \n",
       "551  945.940488       NaN        NaN        NaN         NaN  \n",
       "552         NaN       NaN        NaN        NaN         NaN  \n",
       "553         NaN       NaN        NaN        NaN         NaN  \n",
       "554         NaN       NaN        NaN        NaN         NaN  \n",
       "\n",
       "[555 rows x 20 columns]"
      ]
     },
     "execution_count": 2,
     "metadata": {},
     "output_type": "execute_result"
    }
   ],
   "source": [
    "# Load the data\n",
    "data = \"/usercode/data/Data_MaanCummings_2011_ AmNat52931_ByPop.txt\"\n",
    "df = pd.read_table(data)\n",
    "df"
   ]
  },
  {
   "cell_type": "code",
   "execution_count": 3,
   "metadata": {},
   "outputs": [
    {
     "data": {
      "text/html": [
       "<div>\n",
       "<style scoped>\n",
       "    .dataframe tbody tr th:only-of-type {\n",
       "        vertical-align: middle;\n",
       "    }\n",
       "\n",
       "    .dataframe tbody tr th {\n",
       "        vertical-align: top;\n",
       "    }\n",
       "\n",
       "    .dataframe thead th {\n",
       "        text-align: right;\n",
       "    }\n",
       "</style>\n",
       "<table border=\"1\" class=\"dataframe\">\n",
       "  <thead>\n",
       "    <tr style=\"text-align: right;\">\n",
       "      <th></th>\n",
       "      <th>pop</th>\n",
       "      <th>pop#</th>\n",
       "      <th>ntox</th>\n",
       "      <th>tox</th>\n",
       "      <th>toxse</th>\n",
       "      <th>normtox</th>\n",
       "      <th>normtoxse</th>\n",
       "      <th>viewer</th>\n",
       "      <th>background</th>\n",
       "      <th>noise</th>\n",
       "      <th>vord</th>\n",
       "      <th>dl</th>\n",
       "      <th>ds</th>\n",
       "      <th>euc</th>\n",
       "      <th>qt</th>\n",
       "      <th>qtse</th>\n",
       "      <th>normqt</th>\n",
       "      <th>dluvminus</th>\n",
       "      <th>dsuvminus</th>\n",
       "      <th>eucuvminus</th>\n",
       "    </tr>\n",
       "  </thead>\n",
       "  <tbody>\n",
       "    <tr>\n",
       "      <th>0</th>\n",
       "      <td>AG</td>\n",
       "      <td>4.0</td>\n",
       "      <td>7.0</td>\n",
       "      <td>1.088162</td>\n",
       "      <td>0.098258</td>\n",
       "      <td>0.632902</td>\n",
       "      <td>0.057149</td>\n",
       "      <td>bird</td>\n",
       "      <td>heli</td>\n",
       "      <td>sp</td>\n",
       "      <td>d</td>\n",
       "      <td>0.663722</td>\n",
       "      <td>0.233671</td>\n",
       "      <td>0.555260</td>\n",
       "      <td>3689.650359</td>\n",
       "      <td>160.547777</td>\n",
       "      <td>0.427837</td>\n",
       "      <td>0.663722</td>\n",
       "      <td>0.233207</td>\n",
       "      <td>0.554822</td>\n",
       "    </tr>\n",
       "    <tr>\n",
       "      <th>1</th>\n",
       "      <td>AG</td>\n",
       "      <td>4.0</td>\n",
       "      <td>7.0</td>\n",
       "      <td>1.088162</td>\n",
       "      <td>0.098258</td>\n",
       "      <td>0.632902</td>\n",
       "      <td>0.057149</td>\n",
       "      <td>bird</td>\n",
       "      <td>bark</td>\n",
       "      <td>sp</td>\n",
       "      <td>d</td>\n",
       "      <td>0.112857</td>\n",
       "      <td>0.476213</td>\n",
       "      <td>0.209312</td>\n",
       "      <td>3689.650359</td>\n",
       "      <td>160.547777</td>\n",
       "      <td>0.427837</td>\n",
       "      <td>0.112857</td>\n",
       "      <td>0.468019</td>\n",
       "      <td>0.206925</td>\n",
       "    </tr>\n",
       "    <tr>\n",
       "      <th>2</th>\n",
       "      <td>AG</td>\n",
       "      <td>4.0</td>\n",
       "      <td>7.0</td>\n",
       "      <td>1.088162</td>\n",
       "      <td>0.098258</td>\n",
       "      <td>0.632902</td>\n",
       "      <td>0.057149</td>\n",
       "      <td>bird</td>\n",
       "      <td>leaf</td>\n",
       "      <td>sp</td>\n",
       "      <td>d</td>\n",
       "      <td>0.713477</td>\n",
       "      <td>0.589576</td>\n",
       "      <td>0.687094</td>\n",
       "      <td>3689.650359</td>\n",
       "      <td>160.547777</td>\n",
       "      <td>0.427837</td>\n",
       "      <td>0.713477</td>\n",
       "      <td>0.585557</td>\n",
       "      <td>0.686149</td>\n",
       "    </tr>\n",
       "    <tr>\n",
       "      <th>3</th>\n",
       "      <td>AG</td>\n",
       "      <td>4.0</td>\n",
       "      <td>7.0</td>\n",
       "      <td>1.088162</td>\n",
       "      <td>0.098258</td>\n",
       "      <td>0.632902</td>\n",
       "      <td>0.057149</td>\n",
       "      <td>bird</td>\n",
       "      <td>bark</td>\n",
       "      <td>fix</td>\n",
       "      <td>d</td>\n",
       "      <td>0.112857</td>\n",
       "      <td>0.476213</td>\n",
       "      <td>0.209312</td>\n",
       "      <td>3689.650359</td>\n",
       "      <td>160.547777</td>\n",
       "      <td>0.427837</td>\n",
       "      <td>NaN</td>\n",
       "      <td>NaN</td>\n",
       "      <td>NaN</td>\n",
       "    </tr>\n",
       "    <tr>\n",
       "      <th>4</th>\n",
       "      <td>AG</td>\n",
       "      <td>4.0</td>\n",
       "      <td>7.0</td>\n",
       "      <td>1.088162</td>\n",
       "      <td>0.098258</td>\n",
       "      <td>0.632902</td>\n",
       "      <td>0.057149</td>\n",
       "      <td>bird</td>\n",
       "      <td>heli</td>\n",
       "      <td>fix</td>\n",
       "      <td>d</td>\n",
       "      <td>0.663722</td>\n",
       "      <td>0.233671</td>\n",
       "      <td>0.555260</td>\n",
       "      <td>3689.650359</td>\n",
       "      <td>160.547777</td>\n",
       "      <td>0.427837</td>\n",
       "      <td>NaN</td>\n",
       "      <td>NaN</td>\n",
       "      <td>NaN</td>\n",
       "    </tr>\n",
       "  </tbody>\n",
       "</table>\n",
       "</div>"
      ],
      "text/plain": [
       "  pop  pop#  ntox       tox     toxse   normtox  normtoxse viewer background  \\\n",
       "0  AG   4.0   7.0  1.088162  0.098258  0.632902   0.057149   bird       heli   \n",
       "1  AG   4.0   7.0  1.088162  0.098258  0.632902   0.057149   bird       bark   \n",
       "2  AG   4.0   7.0  1.088162  0.098258  0.632902   0.057149   bird       leaf   \n",
       "3  AG   4.0   7.0  1.088162  0.098258  0.632902   0.057149   bird       bark   \n",
       "4  AG   4.0   7.0  1.088162  0.098258  0.632902   0.057149   bird       heli   \n",
       "\n",
       "  noise vord        dl        ds       euc           qt        qtse    normqt  \\\n",
       "0    sp    d  0.663722  0.233671  0.555260  3689.650359  160.547777  0.427837   \n",
       "1    sp    d  0.112857  0.476213  0.209312  3689.650359  160.547777  0.427837   \n",
       "2    sp    d  0.713477  0.589576  0.687094  3689.650359  160.547777  0.427837   \n",
       "3   fix    d  0.112857  0.476213  0.209312  3689.650359  160.547777  0.427837   \n",
       "4   fix    d  0.663722  0.233671  0.555260  3689.650359  160.547777  0.427837   \n",
       "\n",
       "   dluvminus  dsuvminus  eucuvminus  \n",
       "0   0.663722   0.233207    0.554822  \n",
       "1   0.112857   0.468019    0.206925  \n",
       "2   0.713477   0.585557    0.686149  \n",
       "3        NaN        NaN         NaN  \n",
       "4        NaN        NaN         NaN  "
      ]
     },
     "execution_count": 3,
     "metadata": {},
     "output_type": "execute_result"
    }
   ],
   "source": [
    "#  Display the first five rows\n",
    "\n",
    "df.head(5)"
   ]
  },
  {
   "cell_type": "code",
   "execution_count": 4,
   "metadata": {},
   "outputs": [
    {
     "data": {
      "text/plain": [
       "Index(['pop', 'pop#', 'ntox', 'tox', 'toxse', 'normtox', 'normtoxse', 'viewer',\n",
       "       'background', 'noise', 'vord', 'dl', 'ds', 'euc', 'qt', 'qtse',\n",
       "       'normqt', 'dluvminus', 'dsuvminus', 'eucuvminus'],\n",
       "      dtype='object')"
      ]
     },
     "execution_count": 4,
     "metadata": {},
     "output_type": "execute_result"
    }
   ],
   "source": [
    "# Print out the column names\n",
    "\n",
    "df.columns"
   ]
  },
  {
   "cell_type": "code",
   "execution_count": 5,
   "metadata": {},
   "outputs": [],
   "source": [
    "# Rename columns\n",
    "columns = ['pop', 'pop_number', 'n_tox', 'toxicity', 'toxicity_se', 'toxicity_normalised', 'toxicity_norm_se', 'viewer', 'background', 'noise', 'v_or_d', 'vs_lumin_cont', 'vs_chrom_cont', 'vs_conspic', 'vi_brightness', 'vi_bright_se', 'vi_bright_normalised', 'bird_lumin_cont', 'bird_chrom_cont', 'bird_conspic_cont']\n",
    "df.columns = columns"
   ]
  },
  {
   "cell_type": "markdown",
   "metadata": {},
   "source": [
    "### Task 3: Clean the Data"
   ]
  },
  {
   "cell_type": "code",
   "execution_count": 6,
   "metadata": {},
   "outputs": [
    {
     "data": {
      "text/html": [
       "<div>\n",
       "<style scoped>\n",
       "    .dataframe tbody tr th:only-of-type {\n",
       "        vertical-align: middle;\n",
       "    }\n",
       "\n",
       "    .dataframe tbody tr th {\n",
       "        vertical-align: top;\n",
       "    }\n",
       "\n",
       "    .dataframe thead th {\n",
       "        text-align: right;\n",
       "    }\n",
       "</style>\n",
       "<table border=\"1\" class=\"dataframe\">\n",
       "  <thead>\n",
       "    <tr style=\"text-align: right;\">\n",
       "      <th></th>\n",
       "      <th>pop</th>\n",
       "      <th>n_tox</th>\n",
       "      <th>toxicity</th>\n",
       "      <th>viewer</th>\n",
       "      <th>background</th>\n",
       "      <th>noise</th>\n",
       "      <th>v_or_d</th>\n",
       "      <th>vs_lumin_cont</th>\n",
       "      <th>vs_chrom_cont</th>\n",
       "      <th>vs_conspic</th>\n",
       "      <th>vi_brightness</th>\n",
       "    </tr>\n",
       "  </thead>\n",
       "  <tbody>\n",
       "    <tr>\n",
       "      <th>0</th>\n",
       "      <td>AG</td>\n",
       "      <td>7.0</td>\n",
       "      <td>1.088162</td>\n",
       "      <td>bird</td>\n",
       "      <td>heli</td>\n",
       "      <td>sp</td>\n",
       "      <td>d</td>\n",
       "      <td>0.663722</td>\n",
       "      <td>0.233671</td>\n",
       "      <td>0.555260</td>\n",
       "      <td>3689.650359</td>\n",
       "    </tr>\n",
       "    <tr>\n",
       "      <th>1</th>\n",
       "      <td>AG</td>\n",
       "      <td>7.0</td>\n",
       "      <td>1.088162</td>\n",
       "      <td>bird</td>\n",
       "      <td>bark</td>\n",
       "      <td>sp</td>\n",
       "      <td>d</td>\n",
       "      <td>0.112857</td>\n",
       "      <td>0.476213</td>\n",
       "      <td>0.209312</td>\n",
       "      <td>3689.650359</td>\n",
       "    </tr>\n",
       "    <tr>\n",
       "      <th>2</th>\n",
       "      <td>AG</td>\n",
       "      <td>7.0</td>\n",
       "      <td>1.088162</td>\n",
       "      <td>bird</td>\n",
       "      <td>leaf</td>\n",
       "      <td>sp</td>\n",
       "      <td>d</td>\n",
       "      <td>0.713477</td>\n",
       "      <td>0.589576</td>\n",
       "      <td>0.687094</td>\n",
       "      <td>3689.650359</td>\n",
       "    </tr>\n",
       "    <tr>\n",
       "      <th>3</th>\n",
       "      <td>AG</td>\n",
       "      <td>7.0</td>\n",
       "      <td>1.088162</td>\n",
       "      <td>bird</td>\n",
       "      <td>bark</td>\n",
       "      <td>fix</td>\n",
       "      <td>d</td>\n",
       "      <td>0.112857</td>\n",
       "      <td>0.476213</td>\n",
       "      <td>0.209312</td>\n",
       "      <td>3689.650359</td>\n",
       "    </tr>\n",
       "    <tr>\n",
       "      <th>4</th>\n",
       "      <td>AG</td>\n",
       "      <td>7.0</td>\n",
       "      <td>1.088162</td>\n",
       "      <td>bird</td>\n",
       "      <td>heli</td>\n",
       "      <td>fix</td>\n",
       "      <td>d</td>\n",
       "      <td>0.663722</td>\n",
       "      <td>0.233671</td>\n",
       "      <td>0.555260</td>\n",
       "      <td>3689.650359</td>\n",
       "    </tr>\n",
       "  </tbody>\n",
       "</table>\n",
       "</div>"
      ],
      "text/plain": [
       "  pop  n_tox  toxicity viewer background noise v_or_d  vs_lumin_cont  \\\n",
       "0  AG    7.0  1.088162   bird       heli    sp      d       0.663722   \n",
       "1  AG    7.0  1.088162   bird       bark    sp      d       0.112857   \n",
       "2  AG    7.0  1.088162   bird       leaf    sp      d       0.713477   \n",
       "3  AG    7.0  1.088162   bird       bark   fix      d       0.112857   \n",
       "4  AG    7.0  1.088162   bird       heli   fix      d       0.663722   \n",
       "\n",
       "   vs_chrom_cont  vs_conspic  vi_brightness  \n",
       "0       0.233671    0.555260    3689.650359  \n",
       "1       0.476213    0.209312    3689.650359  \n",
       "2       0.589576    0.687094    3689.650359  \n",
       "3       0.476213    0.209312    3689.650359  \n",
       "4       0.233671    0.555260    3689.650359  "
      ]
     },
     "execution_count": 6,
     "metadata": {},
     "output_type": "execute_result"
    }
   ],
   "source": [
    "# Create a data subset\n",
    "df = df[[\"pop\", \"n_tox\", \"toxicity\", \"viewer\", \"background\", \"noise\", \"v_or_d\", \"vs_lumin_cont\", \"vs_chrom_cont\", \"vs_conspic\", \"vi_brightness\"]]\n",
    "df.head()"
   ]
  },
  {
   "cell_type": "code",
   "execution_count": 7,
   "metadata": {},
   "outputs": [
    {
     "data": {
      "text/html": [
       "<div>\n",
       "<style scoped>\n",
       "    .dataframe tbody tr th:only-of-type {\n",
       "        vertical-align: middle;\n",
       "    }\n",
       "\n",
       "    .dataframe tbody tr th {\n",
       "        vertical-align: top;\n",
       "    }\n",
       "\n",
       "    .dataframe thead th {\n",
       "        text-align: right;\n",
       "    }\n",
       "</style>\n",
       "<table border=\"1\" class=\"dataframe\">\n",
       "  <thead>\n",
       "    <tr style=\"text-align: right;\">\n",
       "      <th></th>\n",
       "      <th>pop</th>\n",
       "      <th>n_tox</th>\n",
       "      <th>toxicity</th>\n",
       "      <th>viewer</th>\n",
       "      <th>background</th>\n",
       "      <th>noise</th>\n",
       "      <th>v_or_d</th>\n",
       "      <th>vs_lumin_cont</th>\n",
       "      <th>vs_chrom_cont</th>\n",
       "      <th>vs_conspic</th>\n",
       "      <th>vi_brightness</th>\n",
       "    </tr>\n",
       "  </thead>\n",
       "  <tbody>\n",
       "    <tr>\n",
       "      <th>0</th>\n",
       "      <td>AG</td>\n",
       "      <td>7.0</td>\n",
       "      <td>1.088162</td>\n",
       "      <td>bird</td>\n",
       "      <td>heli</td>\n",
       "      <td>sp</td>\n",
       "      <td>d</td>\n",
       "      <td>0.663722</td>\n",
       "      <td>0.233671</td>\n",
       "      <td>0.555260</td>\n",
       "      <td>3689.650359</td>\n",
       "    </tr>\n",
       "    <tr>\n",
       "      <th>1</th>\n",
       "      <td>AG</td>\n",
       "      <td>7.0</td>\n",
       "      <td>1.088162</td>\n",
       "      <td>bird</td>\n",
       "      <td>bark</td>\n",
       "      <td>sp</td>\n",
       "      <td>d</td>\n",
       "      <td>0.112857</td>\n",
       "      <td>0.476213</td>\n",
       "      <td>0.209312</td>\n",
       "      <td>3689.650359</td>\n",
       "    </tr>\n",
       "    <tr>\n",
       "      <th>2</th>\n",
       "      <td>AG</td>\n",
       "      <td>7.0</td>\n",
       "      <td>1.088162</td>\n",
       "      <td>bird</td>\n",
       "      <td>leaf</td>\n",
       "      <td>sp</td>\n",
       "      <td>d</td>\n",
       "      <td>0.713477</td>\n",
       "      <td>0.589576</td>\n",
       "      <td>0.687094</td>\n",
       "      <td>3689.650359</td>\n",
       "    </tr>\n",
       "    <tr>\n",
       "      <th>3</th>\n",
       "      <td>AG</td>\n",
       "      <td>7.0</td>\n",
       "      <td>1.088162</td>\n",
       "      <td>bird</td>\n",
       "      <td>bark</td>\n",
       "      <td>fix</td>\n",
       "      <td>d</td>\n",
       "      <td>0.112857</td>\n",
       "      <td>0.476213</td>\n",
       "      <td>0.209312</td>\n",
       "      <td>3689.650359</td>\n",
       "    </tr>\n",
       "    <tr>\n",
       "      <th>4</th>\n",
       "      <td>AG</td>\n",
       "      <td>7.0</td>\n",
       "      <td>1.088162</td>\n",
       "      <td>bird</td>\n",
       "      <td>heli</td>\n",
       "      <td>fix</td>\n",
       "      <td>d</td>\n",
       "      <td>0.663722</td>\n",
       "      <td>0.233671</td>\n",
       "      <td>0.555260</td>\n",
       "      <td>3689.650359</td>\n",
       "    </tr>\n",
       "  </tbody>\n",
       "</table>\n",
       "</div>"
      ],
      "text/plain": [
       "  pop  n_tox  toxicity viewer background noise v_or_d  vs_lumin_cont  \\\n",
       "0  AG    7.0  1.088162   bird       heli    sp      d       0.663722   \n",
       "1  AG    7.0  1.088162   bird       bark    sp      d       0.112857   \n",
       "2  AG    7.0  1.088162   bird       leaf    sp      d       0.713477   \n",
       "3  AG    7.0  1.088162   bird       bark   fix      d       0.112857   \n",
       "4  AG    7.0  1.088162   bird       heli   fix      d       0.663722   \n",
       "\n",
       "   vs_chrom_cont  vs_conspic  vi_brightness  \n",
       "0       0.233671    0.555260    3689.650359  \n",
       "1       0.476213    0.209312    3689.650359  \n",
       "2       0.589576    0.687094    3689.650359  \n",
       "3       0.476213    0.209312    3689.650359  \n",
       "4       0.233671    0.555260    3689.650359  "
      ]
     },
     "execution_count": 7,
     "metadata": {},
     "output_type": "execute_result"
    }
   ],
   "source": [
    "# Display the first five rows\n",
    "\n",
    "df.head()"
   ]
  },
  {
   "cell_type": "code",
   "execution_count": 8,
   "metadata": {},
   "outputs": [
    {
     "name": "stdout",
     "output_type": "stream",
     "text": [
      "<class 'pandas.core.frame.DataFrame'>\n",
      "RangeIndex: 555 entries, 0 to 554\n",
      "Data columns (total 11 columns):\n",
      " #   Column         Non-Null Count  Dtype  \n",
      "---  ------         --------------  -----  \n",
      " 0   pop            552 non-null    object \n",
      " 1   n_tox          552 non-null    float64\n",
      " 2   toxicity       552 non-null    float64\n",
      " 3   viewer         516 non-null    object \n",
      " 4   background     516 non-null    object \n",
      " 5   noise          540 non-null    object \n",
      " 6   v_or_d         528 non-null    object \n",
      " 7   vs_lumin_cont  516 non-null    float64\n",
      " 8   vs_chrom_cont  516 non-null    float64\n",
      " 9   vs_conspic     516 non-null    float64\n",
      " 10  vi_brightness  528 non-null    float64\n",
      "dtypes: float64(6), object(5)\n",
      "memory usage: 47.8+ KB\n"
     ]
    }
   ],
   "source": [
    "# Obtain data type information\n",
    "\n",
    "df.info()"
   ]
  },
  {
   "cell_type": "code",
   "execution_count": 9,
   "metadata": {},
   "outputs": [
    {
     "data": {
      "text/html": [
       "<div>\n",
       "<style scoped>\n",
       "    .dataframe tbody tr th:only-of-type {\n",
       "        vertical-align: middle;\n",
       "    }\n",
       "\n",
       "    .dataframe tbody tr th {\n",
       "        vertical-align: top;\n",
       "    }\n",
       "\n",
       "    .dataframe thead th {\n",
       "        text-align: right;\n",
       "    }\n",
       "</style>\n",
       "<table border=\"1\" class=\"dataframe\">\n",
       "  <thead>\n",
       "    <tr style=\"text-align: right;\">\n",
       "      <th></th>\n",
       "      <th>n_tox</th>\n",
       "      <th>toxicity</th>\n",
       "      <th>vs_lumin_cont</th>\n",
       "      <th>vs_chrom_cont</th>\n",
       "      <th>vs_conspic</th>\n",
       "      <th>vi_brightness</th>\n",
       "    </tr>\n",
       "  </thead>\n",
       "  <tbody>\n",
       "    <tr>\n",
       "      <th>count</th>\n",
       "      <td>552.000000</td>\n",
       "      <td>552.000000</td>\n",
       "      <td>516.000000</td>\n",
       "      <td>516.000000</td>\n",
       "      <td>516.000000</td>\n",
       "      <td>528.000000</td>\n",
       "    </tr>\n",
       "    <tr>\n",
       "      <th>mean</th>\n",
       "      <td>4.826087</td>\n",
       "      <td>0.904571</td>\n",
       "      <td>0.640985</td>\n",
       "      <td>0.642940</td>\n",
       "      <td>0.679841</td>\n",
       "      <td>7773.949061</td>\n",
       "    </tr>\n",
       "    <tr>\n",
       "      <th>std</th>\n",
       "      <td>0.816464</td>\n",
       "      <td>0.450577</td>\n",
       "      <td>0.269206</td>\n",
       "      <td>0.288689</td>\n",
       "      <td>0.249739</td>\n",
       "      <td>3409.624876</td>\n",
       "    </tr>\n",
       "    <tr>\n",
       "      <th>min</th>\n",
       "      <td>4.000000</td>\n",
       "      <td>0.337735</td>\n",
       "      <td>0.011419</td>\n",
       "      <td>0.013386</td>\n",
       "      <td>0.051274</td>\n",
       "      <td>3689.650359</td>\n",
       "    </tr>\n",
       "    <tr>\n",
       "      <th>25%</th>\n",
       "      <td>4.000000</td>\n",
       "      <td>0.504583</td>\n",
       "      <td>0.472497</td>\n",
       "      <td>0.452943</td>\n",
       "      <td>0.487526</td>\n",
       "      <td>5371.793596</td>\n",
       "    </tr>\n",
       "    <tr>\n",
       "      <th>50%</th>\n",
       "      <td>5.000000</td>\n",
       "      <td>0.861168</td>\n",
       "      <td>0.698175</td>\n",
       "      <td>0.737805</td>\n",
       "      <td>0.734742</td>\n",
       "      <td>7322.685401</td>\n",
       "    </tr>\n",
       "    <tr>\n",
       "      <th>75%</th>\n",
       "      <td>5.000000</td>\n",
       "      <td>1.398060</td>\n",
       "      <td>0.836354</td>\n",
       "      <td>0.870051</td>\n",
       "      <td>0.874383</td>\n",
       "      <td>8981.527250</td>\n",
       "    </tr>\n",
       "    <tr>\n",
       "      <th>max</th>\n",
       "      <td>7.000000</td>\n",
       "      <td>1.719322</td>\n",
       "      <td>1.000000</td>\n",
       "      <td>1.000000</td>\n",
       "      <td>1.000000</td>\n",
       "      <td>16946.691780</td>\n",
       "    </tr>\n",
       "  </tbody>\n",
       "</table>\n",
       "</div>"
      ],
      "text/plain": [
       "            n_tox    toxicity  vs_lumin_cont  vs_chrom_cont  vs_conspic  \\\n",
       "count  552.000000  552.000000     516.000000     516.000000  516.000000   \n",
       "mean     4.826087    0.904571       0.640985       0.642940    0.679841   \n",
       "std      0.816464    0.450577       0.269206       0.288689    0.249739   \n",
       "min      4.000000    0.337735       0.011419       0.013386    0.051274   \n",
       "25%      4.000000    0.504583       0.472497       0.452943    0.487526   \n",
       "50%      5.000000    0.861168       0.698175       0.737805    0.734742   \n",
       "75%      5.000000    1.398060       0.836354       0.870051    0.874383   \n",
       "max      7.000000    1.719322       1.000000       1.000000    1.000000   \n",
       "\n",
       "       vi_brightness  \n",
       "count     528.000000  \n",
       "mean     7773.949061  \n",
       "std      3409.624876  \n",
       "min      3689.650359  \n",
       "25%      5371.793596  \n",
       "50%      7322.685401  \n",
       "75%      8981.527250  \n",
       "max     16946.691780  "
      ]
     },
     "execution_count": 9,
     "metadata": {},
     "output_type": "execute_result"
    }
   ],
   "source": [
    "# Describe basic statistics\n",
    "\n",
    "df.describe()"
   ]
  },
  {
   "cell_type": "code",
   "execution_count": 10,
   "metadata": {},
   "outputs": [
    {
     "data": {
      "text/plain": [
       "pop               3\n",
       "n_tox             3\n",
       "toxicity          3\n",
       "viewer           39\n",
       "background       39\n",
       "noise            15\n",
       "v_or_d           27\n",
       "vs_lumin_cont    39\n",
       "vs_chrom_cont    39\n",
       "vs_conspic       39\n",
       "vi_brightness    27\n",
       "dtype: int64"
      ]
     },
     "execution_count": 10,
     "metadata": {},
     "output_type": "execute_result"
    }
   ],
   "source": [
    "# Check for missing values\n",
    "df.isnull().sum()\n"
   ]
  },
  {
   "cell_type": "code",
   "execution_count": 11,
   "metadata": {},
   "outputs": [
    {
     "data": {
      "text/plain": [
       "pop              0\n",
       "n_tox            0\n",
       "toxicity         0\n",
       "viewer           0\n",
       "background       0\n",
       "noise            0\n",
       "v_or_d           0\n",
       "vs_lumin_cont    0\n",
       "vs_chrom_cont    0\n",
       "vs_conspic       0\n",
       "vi_brightness    0\n",
       "dtype: int64"
      ]
     },
     "execution_count": 11,
     "metadata": {},
     "output_type": "execute_result"
    }
   ],
   "source": [
    "# Drop the missing values & recalculate the sums\n",
    "\n",
    "df = df.dropna()\n",
    "df.isnull().sum()"
   ]
  },
  {
   "cell_type": "code",
   "execution_count": 12,
   "metadata": {},
   "outputs": [
    {
     "name": "stdout",
     "output_type": "stream",
     "text": [
      "<class 'pandas.core.frame.DataFrame'>\n",
      "Index: 516 entries, 0 to 551\n",
      "Data columns (total 11 columns):\n",
      " #   Column         Non-Null Count  Dtype  \n",
      "---  ------         --------------  -----  \n",
      " 0   pop            516 non-null    object \n",
      " 1   n_tox          516 non-null    float64\n",
      " 2   toxicity       516 non-null    float64\n",
      " 3   viewer         516 non-null    object \n",
      " 4   background     516 non-null    object \n",
      " 5   noise          516 non-null    object \n",
      " 6   v_or_d         516 non-null    object \n",
      " 7   vs_lumin_cont  516 non-null    float64\n",
      " 8   vs_chrom_cont  516 non-null    float64\n",
      " 9   vs_conspic     516 non-null    float64\n",
      " 10  vi_brightness  516 non-null    float64\n",
      "dtypes: float64(6), object(5)\n",
      "memory usage: 48.4+ KB\n"
     ]
    }
   ],
   "source": [
    "# Check for duplicate values\n",
    "df.duplicated().sum()\n",
    "df.info()"
   ]
  },
  {
   "cell_type": "markdown",
   "metadata": {},
   "source": [
    "### Task 4: Perform Simple EDA"
   ]
  },
  {
   "cell_type": "code",
   "execution_count": 13,
   "metadata": {},
   "outputs": [
    {
     "data": {
      "text/plain": [
       "<Axes: xlabel='toxicity', ylabel='Count'>"
      ]
     },
     "execution_count": 13,
     "metadata": {},
     "output_type": "execute_result"
    },
    {
     "data": {
      "image/png": "[encoded data removed]",
      "text/plain": [
       "<Figure size 640x480 with 1 Axes>"
      ]
     },
     "metadata": {},
     "output_type": "display_data"
    }
   ],
   "source": [
    "# Plot a histogram of the target variable\n",
    "sns.histplot(df.toxicity)"
   ]
  },
  {
   "cell_type": "code",
   "execution_count": 14,
   "metadata": {},
   "outputs": [
    {
     "data": {
      "text/html": [
       "<div>\n",
       "<style scoped>\n",
       "    .dataframe tbody tr th:only-of-type {\n",
       "        vertical-align: middle;\n",
       "    }\n",
       "\n",
       "    .dataframe tbody tr th {\n",
       "        vertical-align: top;\n",
       "    }\n",
       "\n",
       "    .dataframe thead th {\n",
       "        text-align: right;\n",
       "    }\n",
       "</style>\n",
       "<table border=\"1\" class=\"dataframe\">\n",
       "  <thead>\n",
       "    <tr style=\"text-align: right;\">\n",
       "      <th></th>\n",
       "      <th>n_tox</th>\n",
       "      <th>toxicity</th>\n",
       "      <th>vs_lumin_cont</th>\n",
       "      <th>vs_chrom_cont</th>\n",
       "      <th>vs_conspic</th>\n",
       "      <th>vi_brightness</th>\n",
       "    </tr>\n",
       "  </thead>\n",
       "  <tbody>\n",
       "    <tr>\n",
       "      <th>n_tox</th>\n",
       "      <td>1.000000</td>\n",
       "      <td>0.449939</td>\n",
       "      <td>-0.037702</td>\n",
       "      <td>-0.035318</td>\n",
       "      <td>-0.040571</td>\n",
       "      <td>-0.045342</td>\n",
       "    </tr>\n",
       "    <tr>\n",
       "      <th>toxicity</th>\n",
       "      <td>0.449939</td>\n",
       "      <td>1.000000</td>\n",
       "      <td>0.287901</td>\n",
       "      <td>0.003888</td>\n",
       "      <td>0.282148</td>\n",
       "      <td>0.384922</td>\n",
       "    </tr>\n",
       "    <tr>\n",
       "      <th>vs_lumin_cont</th>\n",
       "      <td>-0.037702</td>\n",
       "      <td>0.287901</td>\n",
       "      <td>1.000000</td>\n",
       "      <td>0.379860</td>\n",
       "      <td>0.973140</td>\n",
       "      <td>0.589058</td>\n",
       "    </tr>\n",
       "    <tr>\n",
       "      <th>vs_chrom_cont</th>\n",
       "      <td>-0.035318</td>\n",
       "      <td>0.003888</td>\n",
       "      <td>0.379860</td>\n",
       "      <td>1.000000</td>\n",
       "      <td>0.495945</td>\n",
       "      <td>-0.079963</td>\n",
       "    </tr>\n",
       "    <tr>\n",
       "      <th>vs_conspic</th>\n",
       "      <td>-0.040571</td>\n",
       "      <td>0.282148</td>\n",
       "      <td>0.973140</td>\n",
       "      <td>0.495945</td>\n",
       "      <td>1.000000</td>\n",
       "      <td>0.598212</td>\n",
       "    </tr>\n",
       "    <tr>\n",
       "      <th>vi_brightness</th>\n",
       "      <td>-0.045342</td>\n",
       "      <td>0.384922</td>\n",
       "      <td>0.589058</td>\n",
       "      <td>-0.079963</td>\n",
       "      <td>0.598212</td>\n",
       "      <td>1.000000</td>\n",
       "    </tr>\n",
       "  </tbody>\n",
       "</table>\n",
       "</div>"
      ],
      "text/plain": [
       "                  n_tox  toxicity  vs_lumin_cont  vs_chrom_cont  vs_conspic  \\\n",
       "n_tox          1.000000  0.449939      -0.037702      -0.035318   -0.040571   \n",
       "toxicity       0.449939  1.000000       0.287901       0.003888    0.282148   \n",
       "vs_lumin_cont -0.037702  0.287901       1.000000       0.379860    0.973140   \n",
       "vs_chrom_cont -0.035318  0.003888       0.379860       1.000000    0.495945   \n",
       "vs_conspic    -0.040571  0.282148       0.973140       0.495945    1.000000   \n",
       "vi_brightness -0.045342  0.384922       0.589058      -0.079963    0.598212   \n",
       "\n",
       "               vi_brightness  \n",
       "n_tox              -0.045342  \n",
       "toxicity            0.384922  \n",
       "vs_lumin_cont       0.589058  \n",
       "vs_chrom_cont      -0.079963  \n",
       "vs_conspic          0.598212  \n",
       "vi_brightness       1.000000  "
      ]
     },
     "execution_count": 14,
     "metadata": {},
     "output_type": "execute_result"
    }
   ],
   "source": [
    "# Obtain correlation values\n",
    "correlation = df[[\"n_tox\", \"toxicity\", \"vs_lumin_cont\", \"vs_chrom_cont\", \"vs_conspic\", \"vi_brightness\"]].corr()\n",
    "correlation"
   ]
  },
  {
   "cell_type": "code",
   "execution_count": 15,
   "metadata": {},
   "outputs": [
    {
     "data": {
      "text/plain": [
       "<Axes: >"
      ]
     },
     "execution_count": 15,
     "metadata": {},
     "output_type": "execute_result"
    },
    {
     "data": {
      "image/png": "[encoded data removed]",
      "text/plain": [
       "<Figure size 640x480 with 2 Axes>"
      ]
     },
     "metadata": {},
     "output_type": "display_data"
    }
   ],
   "source": [
    "# Plot a correlation matrix\n",
    "\n",
    "sns.heatmap(correlation, cmap=\"crest\", annot=True)"
   ]
  },
  {
   "cell_type": "markdown",
   "metadata": {},
   "source": [
    "### Task 5: Split the Data"
   ]
  },
  {
   "cell_type": "code",
   "execution_count": 16,
   "metadata": {},
   "outputs": [],
   "source": [
    "# Split the data into train and test\n",
    "df_train, df_test = train_test_split(df, test_size=0.2, shuffle=True, random_state=2)"
   ]
  },
  {
   "cell_type": "code",
   "execution_count": 17,
   "metadata": {},
   "outputs": [
    {
     "name": "stdout",
     "output_type": "stream",
     "text": [
      "Train: 412\n",
      "Test: 104\n"
     ]
    }
   ],
   "source": [
    "# Print out the shape of the new DataFrames\n",
    "print(\"Train:\", df_train.shape[0])\n",
    "print(\"Test:\", df_test.shape[0])"
   ]
  },
  {
   "cell_type": "code",
   "execution_count": 18,
   "metadata": {},
   "outputs": [],
   "source": [
    "# Isolate and transform the target variable\n",
    "y_train = np.log1p(df_train['toxicity'].values)\n",
    "y_test = np.log1p(df_test['toxicity'].values)\n",
    "\n"
   ]
  },
  {
   "cell_type": "code",
   "execution_count": 19,
   "metadata": {},
   "outputs": [],
   "source": [
    "# Delete the target variable from DataFrames\n",
    "del df_train['toxicity']\n",
    "del df_test['toxicity']"
   ]
  },
  {
   "cell_type": "markdown",
   "metadata": {},
   "source": [
    "## Train your model"
   ]
  },
  {
   "cell_type": "markdown",
   "metadata": {},
   "source": [
    "### Task 6: Train a Baseline Model"
   ]
  },
  {
   "cell_type": "code",
   "execution_count": 20,
   "metadata": {},
   "outputs": [],
   "source": [
    "# Encode the data\n",
    "\n",
    "x_train = pd.get_dummies(df_train, dtype=\"int\")\n",
    "x_test = pd.get_dummies(df_test, dtype=\"int\")"
   ]
  },
  {
   "cell_type": "code",
   "execution_count": 21,
   "metadata": {},
   "outputs": [
    {
     "data": {
      "text/html": [
       "<div>\n",
       "<style scoped>\n",
       "    .dataframe tbody tr th:only-of-type {\n",
       "        vertical-align: middle;\n",
       "    }\n",
       "\n",
       "    .dataframe tbody tr th {\n",
       "        vertical-align: top;\n",
       "    }\n",
       "\n",
       "    .dataframe thead th {\n",
       "        text-align: right;\n",
       "    }\n",
       "</style>\n",
       "<table border=\"1\" class=\"dataframe\">\n",
       "  <thead>\n",
       "    <tr style=\"text-align: right;\">\n",
       "      <th></th>\n",
       "      <th>n_tox</th>\n",
       "      <th>vs_lumin_cont</th>\n",
       "      <th>vs_chrom_cont</th>\n",
       "      <th>vs_conspic</th>\n",
       "      <th>vi_brightness</th>\n",
       "      <th>pop_AG</th>\n",
       "      <th>pop_AL</th>\n",
       "      <th>pop_BCG</th>\n",
       "      <th>pop_BCO</th>\n",
       "      <th>pop_CA</th>\n",
       "      <th>...</th>\n",
       "      <th>viewer_crab</th>\n",
       "      <th>viewer_pumilio</th>\n",
       "      <th>viewer_snake</th>\n",
       "      <th>background_bark</th>\n",
       "      <th>background_heli</th>\n",
       "      <th>background_leaf</th>\n",
       "      <th>noise_fix</th>\n",
       "      <th>noise_sp</th>\n",
       "      <th>v_or_d_d</th>\n",
       "      <th>v_or_d_v</th>\n",
       "    </tr>\n",
       "  </thead>\n",
       "  <tbody>\n",
       "    <tr>\n",
       "      <th>131</th>\n",
       "      <td>5.0</td>\n",
       "      <td>0.982828</td>\n",
       "      <td>0.630611</td>\n",
       "      <td>0.983457</td>\n",
       "      <td>16033.466510</td>\n",
       "      <td>0</td>\n",
       "      <td>0</td>\n",
       "      <td>1</td>\n",
       "      <td>0</td>\n",
       "      <td>0</td>\n",
       "      <td>...</td>\n",
       "      <td>0</td>\n",
       "      <td>1</td>\n",
       "      <td>0</td>\n",
       "      <td>0</td>\n",
       "      <td>0</td>\n",
       "      <td>1</td>\n",
       "      <td>0</td>\n",
       "      <td>1</td>\n",
       "      <td>0</td>\n",
       "      <td>1</td>\n",
       "    </tr>\n",
       "    <tr>\n",
       "      <th>429</th>\n",
       "      <td>5.0</td>\n",
       "      <td>0.218747</td>\n",
       "      <td>0.470099</td>\n",
       "      <td>0.347923</td>\n",
       "      <td>6085.983019</td>\n",
       "      <td>0</td>\n",
       "      <td>0</td>\n",
       "      <td>0</td>\n",
       "      <td>0</td>\n",
       "      <td>0</td>\n",
       "      <td>...</td>\n",
       "      <td>1</td>\n",
       "      <td>0</td>\n",
       "      <td>0</td>\n",
       "      <td>0</td>\n",
       "      <td>1</td>\n",
       "      <td>0</td>\n",
       "      <td>0</td>\n",
       "      <td>1</td>\n",
       "      <td>0</td>\n",
       "      <td>1</td>\n",
       "    </tr>\n",
       "    <tr>\n",
       "      <th>361</th>\n",
       "      <td>5.0</td>\n",
       "      <td>0.606519</td>\n",
       "      <td>0.524435</td>\n",
       "      <td>0.595305</td>\n",
       "      <td>5735.297600</td>\n",
       "      <td>0</td>\n",
       "      <td>0</td>\n",
       "      <td>0</td>\n",
       "      <td>0</td>\n",
       "      <td>0</td>\n",
       "      <td>...</td>\n",
       "      <td>0</td>\n",
       "      <td>0</td>\n",
       "      <td>0</td>\n",
       "      <td>1</td>\n",
       "      <td>0</td>\n",
       "      <td>0</td>\n",
       "      <td>0</td>\n",
       "      <td>1</td>\n",
       "      <td>1</td>\n",
       "      <td>0</td>\n",
       "    </tr>\n",
       "    <tr>\n",
       "      <th>12</th>\n",
       "      <td>7.0</td>\n",
       "      <td>0.046300</td>\n",
       "      <td>1.000000</td>\n",
       "      <td>0.372387</td>\n",
       "      <td>3689.650359</td>\n",
       "      <td>1</td>\n",
       "      <td>0</td>\n",
       "      <td>0</td>\n",
       "      <td>0</td>\n",
       "      <td>0</td>\n",
       "      <td>...</td>\n",
       "      <td>1</td>\n",
       "      <td>0</td>\n",
       "      <td>0</td>\n",
       "      <td>1</td>\n",
       "      <td>0</td>\n",
       "      <td>0</td>\n",
       "      <td>1</td>\n",
       "      <td>0</td>\n",
       "      <td>1</td>\n",
       "      <td>0</td>\n",
       "    </tr>\n",
       "    <tr>\n",
       "      <th>456</th>\n",
       "      <td>5.0</td>\n",
       "      <td>1.000000</td>\n",
       "      <td>1.000000</td>\n",
       "      <td>1.000000</td>\n",
       "      <td>7484.570912</td>\n",
       "      <td>0</td>\n",
       "      <td>0</td>\n",
       "      <td>0</td>\n",
       "      <td>0</td>\n",
       "      <td>0</td>\n",
       "      <td>...</td>\n",
       "      <td>0</td>\n",
       "      <td>0</td>\n",
       "      <td>0</td>\n",
       "      <td>1</td>\n",
       "      <td>0</td>\n",
       "      <td>0</td>\n",
       "      <td>0</td>\n",
       "      <td>1</td>\n",
       "      <td>1</td>\n",
       "      <td>0</td>\n",
       "    </tr>\n",
       "  </tbody>\n",
       "</table>\n",
       "<p>5 rows × 27 columns</p>\n",
       "</div>"
      ],
      "text/plain": [
       "     n_tox  vs_lumin_cont  vs_chrom_cont  vs_conspic  vi_brightness  pop_AG  \\\n",
       "131    5.0       0.982828       0.630611    0.983457   16033.466510       0   \n",
       "429    5.0       0.218747       0.470099    0.347923    6085.983019       0   \n",
       "361    5.0       0.606519       0.524435    0.595305    5735.297600       0   \n",
       "12     7.0       0.046300       1.000000    0.372387    3689.650359       1   \n",
       "456    5.0       1.000000       1.000000    1.000000    7484.570912       0   \n",
       "\n",
       "     pop_AL  pop_BCG  pop_BCO  pop_CA  ...  viewer_crab  viewer_pumilio  \\\n",
       "131       0        1        0       0  ...            0               1   \n",
       "429       0        0        0       0  ...            1               0   \n",
       "361       0        0        0       0  ...            0               0   \n",
       "12        0        0        0       0  ...            1               0   \n",
       "456       0        0        0       0  ...            0               0   \n",
       "\n",
       "     viewer_snake  background_bark  background_heli  background_leaf  \\\n",
       "131             0                0                0                1   \n",
       "429             0                0                1                0   \n",
       "361             0                1                0                0   \n",
       "12              0                1                0                0   \n",
       "456             0                1                0                0   \n",
       "\n",
       "     noise_fix  noise_sp  v_or_d_d  v_or_d_v  \n",
       "131          0         1         0         1  \n",
       "429          0         1         0         1  \n",
       "361          0         1         1         0  \n",
       "12           1         0         1         0  \n",
       "456          0         1         1         0  \n",
       "\n",
       "[5 rows x 27 columns]"
      ]
     },
     "execution_count": 21,
     "metadata": {},
     "output_type": "execute_result"
    }
   ],
   "source": [
    "x_train.head()"
   ]
  },
  {
   "cell_type": "code",
   "execution_count": null,
   "metadata": {},
   "outputs": [],
   "source": []
  },
  {
   "cell_type": "code",
   "execution_count": 22,
   "metadata": {},
   "outputs": [],
   "source": [
    "# Create the DMatrices\n",
    "dtrain = xgb.DMatrix(x_train, label=y_train)\n",
    "dtest = xgb.DMatrix(x_test, label=y_test)\n"
   ]
  },
  {
   "cell_type": "code",
   "execution_count": 23,
   "metadata": {},
   "outputs": [],
   "source": [
    "# Define XGBoost parameters\n",
    "xgb_params = {'eval_metric': 'rmse'}"
   ]
  },
  {
   "cell_type": "code",
   "execution_count": 24,
   "metadata": {},
   "outputs": [],
   "source": [
    "# Fit the model\n",
    "model = xgb.train(xgb_params, dtrain)"
   ]
  },
  {
   "cell_type": "code",
   "execution_count": 25,
   "metadata": {},
   "outputs": [],
   "source": [
    "# Obtain predictions\n",
    "y_pred = model.predict(dtest)\n"
   ]
  },
  {
   "cell_type": "code",
   "execution_count": 26,
   "metadata": {},
   "outputs": [
    {
     "data": {
      "text/plain": [
       "0.008108952276505967"
      ]
     },
     "execution_count": 26,
     "metadata": {},
     "output_type": "execute_result"
    }
   ],
   "source": [
    "# Calculate RMSE\n",
    "\n",
    "score = np.sqrt(mean_squared_error(y_test, y_pred))\n",
    "score"
   ]
  },
  {
   "cell_type": "markdown",
   "metadata": {},
   "source": [
    "### Task 7: Tune the Model"
   ]
  },
  {
   "cell_type": "code",
   "execution_count": 27,
   "metadata": {},
   "outputs": [],
   "source": [
    "# Update the parameter dictionary\n",
    "\n",
    "xgb_params = {\n",
    " 'colsample_bytree': 0.8,\n",
    " 'eval_metric': 'rmse',\n",
    " 'learning_rate': 0.1,\n",
    " 'max_depth': 3,\n",
    " 'min_child_weight': 5,\n",
    " 'objective': 'reg:squarederror',\n",
    " 'random_state': 10\n",
    "}"
   ]
  },
  {
   "cell_type": "code",
   "execution_count": 28,
   "metadata": {},
   "outputs": [],
   "source": [
    "# Retrain the model\n",
    "model = xgb.train(xgb_params, dtrain, num_boost_round=86)\n"
   ]
  },
  {
   "cell_type": "code",
   "execution_count": 29,
   "metadata": {},
   "outputs": [],
   "source": [
    "# Obtain updated predictions\n",
    "\n",
    "y_pred2 = model.predict(dtest)"
   ]
  },
  {
   "cell_type": "code",
   "execution_count": 30,
   "metadata": {},
   "outputs": [
    {
     "data": {
      "text/plain": [
       "0.004364216288222127"
      ]
     },
     "execution_count": 30,
     "metadata": {},
     "output_type": "execute_result"
    }
   ],
   "source": [
    "# Calculate and display RMSE\n",
    "\n",
    "score2 = np.sqrt(mean_squared_error(y_test, y_pred2))\n",
    "score2"
   ]
  },
  {
   "cell_type": "markdown",
   "metadata": {},
   "source": [
    "### Task 8: Compare Model Performance"
   ]
  },
  {
   "cell_type": "code",
   "execution_count": 31,
   "metadata": {},
   "outputs": [
    {
     "data": {
      "image/png": "[encoded data removed]",
      "text/plain": [
       "<Figure size 640x480 with 1 Axes>"
      ]
     },
     "metadata": {},
     "output_type": "display_data"
    }
   ],
   "source": [
    "# Create the first plot\n",
    "sns.scatterplot(x=range(len(y_test)), y=y_test)\n",
    "sns.scatterplot(x=range(len(y_pred)), y=y_pred)\n",
    "\n",
    "plt.legend([\"Testing data\", \"Baseline prediction\"], loc=\"lower left\", bbox_to_anchor=(0, 1))\n",
    "plt.show()\n"
   ]
  },
  {
   "cell_type": "code",
   "execution_count": 32,
   "metadata": {},
   "outputs": [
    {
     "data": {
      "image/png": "[encoded data removed]",
      "text/plain": [
       "<Figure size 640x480 with 1 Axes>"
      ]
     },
     "metadata": {},
     "output_type": "display_data"
    }
   ],
   "source": [
    "# Create the second plot\n",
    "\n",
    "sns.scatterplot(x= range(len(y_test)), y=y_test)\n",
    "sns.scatterplot(x= range(len(y_pred)), y=y_pred)\n",
    "sns.scatterplot(x= range(len(y_pred2)), y=y_pred2)\n",
    "\n",
    "plt.legend([\"Testing data\", \"Baseline prediction\", \"Tuned prediction\"], loc=\"lower left\", bbox_to_anchor=(0, 1))\n",
    "plt.show()"
   ]
  },
  {
   "cell_type": "markdown",
   "metadata": {},
   "source": [
    "## Model Export"
   ]
  },
  {
   "cell_type": "markdown",
   "metadata": {},
   "source": [
    "### Task 9: Prepare Model for Export"
   ]
  },
  {
   "cell_type": "code",
   "execution_count": 33,
   "metadata": {},
   "outputs": [],
   "source": [
    "# Define input shape\n",
    "\n",
    "tensor = FloatTensorType([None, x_train.shape[1]])"
   ]
  },
  {
   "cell_type": "code",
   "execution_count": 34,
   "metadata": {},
   "outputs": [],
   "source": [
    "# Create input list\n",
    "\n",
    "initial_type = [('float_input', tensor)]"
   ]
  },
  {
   "cell_type": "code",
   "execution_count": 35,
   "metadata": {},
   "outputs": [],
   "source": [
    "# Rename model features\n",
    "\n",
    "model.feature_names = [f\"f{num}\" for num in range(len(model.feature_names))]"
   ]
  },
  {
   "cell_type": "markdown",
   "metadata": {},
   "source": [
    "### Task 10: Export the Model"
   ]
  },
  {
   "cell_type": "code",
   "execution_count": 36,
   "metadata": {},
   "outputs": [],
   "source": [
    "# Convert the model\n",
    "\n",
    "onnx_model = convert_xgboost(model, initial_types=initial_type)"
   ]
  },
  {
   "cell_type": "code",
   "execution_count": 37,
   "metadata": {},
   "outputs": [],
   "source": [
    "# Write the final file\n",
    "\n",
    "with open(\"/usercode/model.onnx\", \"wb\") as f:\n",
    "    f.write(onnx_model.SerializeToString())"
   ]
  },
  {
   "cell_type": "code",
   "execution_count": 38,
   "metadata": {},
   "outputs": [],
   "source": [
    "# Start inference session\n",
    "\n",
    "session = InferenceSession(\"/usercode/model.onnx\")"
   ]
  },
  {
   "cell_type": "code",
   "execution_count": 39,
   "metadata": {},
   "outputs": [],
   "source": [
    "# Obtain input and output names\n",
    "\n",
    "input_name = session.get_inputs()[0].name\n",
    "output_name = session.get_outputs()[0].name"
   ]
  },
  {
   "cell_type": "code",
   "execution_count": 40,
   "metadata": {},
   "outputs": [
    {
     "data": {
      "text/plain": [
       "('float_input', 'variable')"
      ]
     },
     "execution_count": 40,
     "metadata": {},
     "output_type": "execute_result"
    }
   ],
   "source": [
    "# Display input and output names\n",
    "\n",
    "input_name, output_name"
   ]
  }
 ],
 "metadata": {
  "kernelspec": {
   "display_name": "Python 3",
   "language": "python",
   "name": "python3"
  },
  "language_info": {
   "codemirror_mode": {
    "name": "ipython",
    "version": 3
   },
   "file_extension": ".py",
   "mimetype": "text/x-python",
   "name": "python",
   "nbconvert_exporter": "python",
   "pygments_lexer": "ipython3",
   "version": "3.8.10"
  },
  "orig_nbformat": 4,
  "vscode": {
   "interpreter": {
    "hash": "e7370f93d1d0cde622a1f8e1c04877d8463912d04d973331ad4851f04de6915a"
   }
  }
 },
 "nbformat": 4,
 "nbformat_minor": 2
}
